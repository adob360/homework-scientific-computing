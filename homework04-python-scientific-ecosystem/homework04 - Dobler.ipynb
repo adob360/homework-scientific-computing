{
 "cells": [
  {
   "cell_type": "markdown",
   "metadata": {},
   "source": [
    "# Homework 04 - Numpy"
   ]
  },
  {
   "cell_type": "markdown",
   "metadata": {},
   "source": [
    "### Exercise 1 - Terminology\n",
    "\n",
    "Describe the following terms with your own words:\n",
    "\n",
    "***numpy array:***\n",
    "\n",
    "***broadcasting:***"
   ]
  },
  {
   "cell_type": "markdown",
   "metadata": {},
   "source": [
    "Answer the following questions:\n",
    "\n",
    "***What is the difference between a Python list and a Numpy array?***\n",
    "\n",
    "\n",
    "***How can you avoid using loops or list comprehensions when working with Numpy?***\n",
    "\n",
    "\n",
    "***Give different examples of usages of square brackets `[]` in Python and Numpy? Describe at least two completely different ones!***\n",
    "\n",
    "\n",
    "***Give different examples of usages of round brackets `()` in Python and Numpy? Describe at least two completely different ones! (Bonus: give a third example not covered in the lecture until now!)***\n",
    "\n"
   ]
  },
  {
   "cell_type": "markdown",
   "metadata": {},
   "source": [
    "### Exercise 2 - rotate and plot points in 2D\n",
    "\n",
    "Plot the 5 points in 2D defined in the array `points`, then rotate the points by 90 degrees by performing a matrix multiplication with a [rotation matrix](https://en.wikipedia.org/wiki/Rotation_matrix) by using `rotation_matrix @ points` and plot the result in the same plot. The rotation angle needs to be converted to radians before it is passed to `np.cos()` and `np.sin()`, use `np.radians(90)` to do so."
   ]
  },
  {
   "cell_type": "markdown",
   "metadata": {},
   "source": [
    "The result should like like this:"
   ]
  },
  {
   "cell_type": "code",
   "execution_count": 117,
   "metadata": {},
   "outputs": [
    {
     "data": {
      "image/png": "[encoded data removed]",
      "text/plain": [
       "<Figure size 432x288 with 1 Axes>"
      ]
     },
     "metadata": {
      "needs_background": "light"
     },
     "output_type": "display_data"
    }
   ],
   "source": [
    "plt.plot(*points, 'o', label='original points')\n",
    "plt.plot(*points_rotated, 'o', label='rotated points')\n",
    "plt.gca().set_aspect('equal')"
   ]
  },
  {
   "cell_type": "markdown",
   "metadata": {},
   "source": [
    "### Exercise 3 - Flatten the curve\n",
    "\n",
    "Copy the function `new_infections(t, k)` from last week's homework (exercise 3) and re-do the exercise using Numpy arrays instead of Python lists.\n",
    "\n",
    "What needs to be changed in the function `new_infections(t, k)` to make this work?"
   ]
  },
  {
   "cell_type": "code",
   "execution_count": 14,
   "metadata": {},
   "outputs": [
    {
     "name": "stdout",
     "output_type": "stream",
     "text": [
      "[  0   1   2   3   4   5   6   7   8   9  10  11  12  13  14  15  16  17\n",
      "  18  19  20  21  22  23  24  25  26  27  28  29  30  31  32  33  34  35\n",
      "  36  37  38  39  40  41  42  43  44  45  46  47  48  49  50  51  52  53\n",
      "  54  55  56  57  58  59  60  61  62  63  64  65  66  67  68  69  70  71\n",
      "  72  73  74  75  76  77  78  79  80  81  82  83  84  85  86  87  88  89\n",
      "  90  91  92  93  94  95  96  97  98  99 100 101 102 103 104 105 106 107\n",
      " 108 109 110 111 112 113 114 115 116 117 118 119 120 121 122 123 124 125\n",
      " 126 127 128 129 130 131 132 133 134 135 136 137 138 139 140 141 142 143\n",
      " 144 145 146 147 148 149 150 151 152 153 154 155 156 157 158 159 160 161\n",
      " 162 163 164 165 166 167 168 169 170 171 172 173 174 175 176 177 178 179\n",
      " 180 181 182 183 184 185 186 187 188 189 190 191 192 193 194 195 196 197\n",
      " 198 199 200 201 202 203 204 205 206 207 208 209 210 211 212 213 214 215\n",
      " 216 217 218 219 220 221 222 223 224 225 226 227 228 229 230 231 232 233\n",
      " 234 235 236 237 238 239 240 241 242 243 244 245 246 247 248 249]\n"
     ]
    },
    {
     "data": {
      "image/png": "[encoded data removed]",
      "text/plain": [
       "<Figure size 432x288 with 1 Axes>"
      ]
     },
     "metadata": {
      "needs_background": "light"
     },
     "output_type": "display_data"
    }
   ],
   "source": [
    "import matplotlib.pyplot as plt\n",
    "import math\n",
    "import numpy as np\n",
    "\n",
    "\n",
    "\n",
    "def new_infections(t, k):\n",
    "    P=1000000\n",
    "    i0=1\n",
    "    result = (np.exp(-k*P*t)*k*P**2*(-1+P/i0))/(1+np.exp(-k*P*t)*(-1+P/i0))**2\n",
    "    return result\n",
    "        \n",
    "\n",
    "\n",
    "P=1000000\n",
    "k1=3/(P*10)\n",
    "t = np.array([i for i in range(250)])\n",
    "\n",
    "\n",
    "infect_list = new_infections(t, k1)\n",
    "\n",
    "\n",
    "time_scale=list(range(0,250))\n",
    "\n",
    "x_limit = [0, 100]\n",
    "y_limit = [0, 80000]\n",
    "breakdown_limit = 20000\n",
    "x = [20000 for i in range(150)]\n",
    "\n",
    "plt.plot(time_scale,infect_list, label = 'Infections')\n",
    "plt.plot(x, c='r', label = 'Healthcare System Capacity')\n",
    "plt.xlim(x_limit)\n",
    "plt.ylim(y_limit)\n",
    "plt.legend(loc=1)\n",
    "plt.xlabel ('Time [Days]')\n",
    "plt.ylabel ('Infections')\n",
    "plt.show()\n",
    "\n",
    "    "
   ]
  },
  {
   "cell_type": "code",
   "execution_count": null,
   "metadata": {},
   "outputs": [],
   "source": []
  },
  {
   "cell_type": "markdown",
   "metadata": {},
   "source": [
    "### Exercise 4 - Mean of random numbers\n",
    "\n",
    "Generate 100 random values between 0 and 1 (uniformly distributed) and plot them. Then calculate the mean value of the first i values for $i=1,\\ldots,100$ and plot this list too.\n",
    "\n",
    "To solve the exercise find out how to generate random values with Numpy! How did you find an answer? Which possible ways are there? List at least ***2-4 different ways*** to look up what a numpy function does!"
   ]
  }
 ],
 "metadata": {
  "kernelspec": {
   "display_name": "Python 3",
   "language": "python",
   "name": "python3"
  },
  "language_info": {
   "codemirror_mode": {
    "name": "ipython",
    "version": 3
   },
   "file_extension": ".py",
   "mimetype": "text/x-python",
   "name": "python",
   "nbconvert_exporter": "python",
   "pygments_lexer": "ipython3",
   "version": "3.7.6"
  }
 },
 "nbformat": 4,
 "nbformat_minor": 4
}
