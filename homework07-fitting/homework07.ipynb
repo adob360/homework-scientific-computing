{
 "cells": [
  {
   "cell_type": "markdown",
   "metadata": {},
   "source": [
    "# Homework 07"
   ]
  },
  {
   "cell_type": "markdown",
   "metadata": {},
   "source": [
    "### Preparation...\n",
    "\n",
    "Run this code from the lecture to be ready for the exercises below!"
   ]
  },
  {
   "cell_type": "code",
   "execution_count": 1,
   "metadata": {},
   "outputs": [],
   "source": [
    "import glob\n",
    "import os.path\n",
    "\n",
    "import numpy as np\n",
    "import pandas as pd\n",
    "import matplotlib.pyplot as plt\n",
    "\n",
    "\n",
    "from sklearn import datasets, linear_model, ensemble, neural_network\n",
    "from sklearn.metrics import mean_squared_error, r2_score\n",
    "from sklearn.model_selection import train_test_split\n",
    "\n",
    "from pathlib import Path"
   ]
  },
  {
   "cell_type": "code",
   "execution_count": 2,
   "metadata": {},
   "outputs": [],
   "source": [
    "CONFIG_FILE = 'C:\\programming/entsoe-data.config'\n",
    "\n",
    "if not os.path.exists(CONFIG_FILE):\n",
    "    download_dir = input('Path to ENTSO-E data folder: ')\n",
    "    if not os.path.isdir(download_dir):\n",
    "        raise RuntimeError(f'Invalid download_dir, please run cell again: {download_dir}')\n",
    "    with open(CONFIG_FILE, 'w') as f:\n",
    "        f.write(download_dir)\n",
    "else:\n",
    "    with open(CONFIG_FILE) as f:\n",
    "        download_dir = f.read()\n",
    "        \n",
    "# Clear the output after this cell if you want to aovid having your path in the notebook (or execute it twice)!"
   ]
  },
  {
   "cell_type": "code",
   "execution_count": 3,
   "metadata": {},
   "outputs": [
    {
     "name": "stdout",
     "output_type": "stream",
     "text": [
      "Concatenating 68 csv files...\n",
      "Loading done.\n"
     ]
    }
   ],
   "source": [
    "def read_single_csv_entso_e(file):\n",
    "    return pd.read_csv(file, sep='\\t', encoding='utf-16', parse_dates=[\"DateTime\"])\n",
    "\n",
    "\n",
    "def load_complete_entso_e_data(directory):\n",
    "    pattern = Path(directory) / '*.csv'\n",
    "    files = glob.glob(str(pattern))\n",
    "\n",
    "    if not files:\n",
    "        raise ValueError(f\"No files found when searching in {pattern}, wrong directory?\")\n",
    "    \n",
    "    print(f'Concatenating {len(files)} csv files...')\n",
    "\n",
    "    each_csv_file = [read_single_csv_entso_e(file) for file in files]\n",
    "    data = pd.concat(each_csv_file, ignore_index=True)\n",
    "\n",
    "    data = data.sort_values(by=[\"AreaName\", \"DateTime\"])\n",
    "    data = data.set_index(\"DateTime\")\n",
    "\n",
    "    print(\"Loading done.\")\n",
    "\n",
    "    return data\n",
    "\n",
    "\n",
    "power_demand = load_complete_entso_e_data(download_dir)"
   ]
  },
  {
   "cell_type": "code",
   "execution_count": 5,
   "metadata": {},
   "outputs": [],
   "source": [
    "def get_hourly_country_data(data, country):\n",
    "    ret_data = data[data[\"AreaName\"] == country].interpolate()\n",
    "    #ret_data = ret_data.set_index(\"DateTime\")\n",
    "    ret_data = ret_data.resample(\"1h\").mean().interpolate()\n",
    "    return ret_data\n",
    "\n",
    "power_demand_at_hourly = get_hourly_country_data(power_demand, \"Austria\")[\"2015-01-01\":\"2019-12-31\"]"
   ]
  },
  {
   "cell_type": "markdown",
   "metadata": {},
   "source": [
    "## Exercise 1\n",
    "\n",
    "Explain the following terms:\n",
    "\n",
    "**Input feature:** In the function: y=f(x1,....xn) x1 to xn are the input features. Those are the values that are used for prediction in machine learning. \n",
    "\n",
    "**Output feature:** In the function: y=f(x1,.....xn) is y the output feature. Those are the values that are predicted by the machine learning algorithm. \n",
    "\n",
    "**Fit a function to data:** Estimate a function that fits the given points the best and adapt it. \n",
    "\n",
    "**Training data:** A shuffled and random sample piece of your data that you use to train the machine learning algorithm. \n",
    "\n",
    "**Test data:** A shuffled and random sample piece of your data that is different from your training data and that you use to test your trained model. \n",
    "\n",
    "\n",
    "    "
   ]
  },
  {
   "cell_type": "markdown",
   "metadata": {},
   "source": [
    "## Exercise 2\n",
    "\n",
    "In lecture07 we created a plot of the ratio of actual load and predicted load for Austria step by step (Exercise 04). Now put all of this together in one function which takes one parameter `country` as input and calculates and plots the figure of Exercise 04 for this country! The model should be trained on 2015-2019 data and then you should predict for 2020 and compare it to observations. Also do a training/test split and print the R2 for both datasets.\n",
    "\n",
    "Apply the function to the following countries and show the results in one plot: Austria, Germany, Switzerland, Italy, Spain, Sweden, United Kingdom.\n",
    "\n",
    "(1) Print the country name. Get the data for the specific country using ```get_hourly_country_data``` from the lecture and extract two periods, i.e 2015-2019 and 2020 in two separate dataframes.\n",
    "\n",
    "(2) Define X (the input features, i.e. the indicators for time) and Y (i.e. the output feature, the electricity load). Observe that for training, we use the period 2015-2019.\n",
    "\n",
    "(3) Do a train/test split\n",
    "\n",
    "(4) Fit the input features to the output feature using a ```RandomForestRegressor```\n",
    "\n",
    "(5) Predict the output with the training data and the test data and compute the R^2 for both!\n",
    "\n",
    "(6) Print the R^2.\n",
    "\n",
    "(7) Create a new variable ```X_2020``` which contains the input features for the year 2020.\n",
    "\n",
    "(8) Predict with your model the load for 2020.\n",
    "\n",
    "(9) Assign your prediction back to the dataframe in a new column and calculate the monthly mean for prediction and for observed load. You might need to copy the dataframe first by doing something like `power_demand_hourly = power_demand_hourly.copy()` (otherwise it might be just a slice of the complete time range and then you can't add a column for some rows only).\n",
    "\n",
    "(10) Plot the ratio of load and prediction. With ```label=country```, you can add a label to your plot for making a legend.\n",
    "\n",
    "(11) Execute the function for the following countries: Austria, Germany, Switzerland, Italy, Spain, Sweden, United Kingdom.\n",
    "\n",
    "(12) After calling the functions, use ```plt.legend()``` to show a legend."
   ]
  },
  {
   "cell_type": "code",
   "execution_count": null,
   "metadata": {},
   "outputs": [],
   "source": [
    "X = np.array([power_demand_at_hourly.index.dayofyear.values,\n",
    "     power_demand_at_hourly.index.weekday.values,\n",
    "     power_demand_at_hourly.index.hour.values]).T\n",
    "\n",
    "X_training, X_test, Y_training, Y_test = train_test_split(X, Y, test_size=0.2)\n",
    "\n",
    "forest_dayofyear = ensemble.RandomForestRegressor()\n",
    "\n",
    "# Train the model using the training sets\n",
    "forest_dayofyear.fit(X_training, Y_training)\n",
    "\n",
    "prediction_training = forest_dayofyear.predict(X_training)\n",
    "\n",
    "prediction_test = forest_dayofyear.predict(X_test)\n",
    "\n",
    "print(r2_score(Y_training, prediction_training))\n",
    "print(r2_score(Y_test, prediction_test))"
   ]
  },
  {
   "cell_type": "code",
   "execution_count": null,
   "metadata": {},
   "outputs": [],
   "source": [
    "X_2020 = np.array([power_demand_at_hourly_2020.index.dayofyear.values,\n",
    "     power_demand_at_hourly_2020.index.weekday.values,\n",
    "     power_demand_at_hourly_2020.index.hour.values]).T\n",
    "\n",
    "prediction_2020 = forest_dayofyear.predict(X_2020)\n",
    "\n",
    "plot_prediction(power_demand_at_hourly_2020[\"TotalLoadValue\"].values, prediction_2020, alpha=0.5)"
   ]
  },
  {
   "cell_type": "code",
   "execution_count": 73,
   "metadata": {},
   "outputs": [],
   "source": [
    "def model_prediction(country):\n",
    "    print(country)\n",
    "    hourly_country_data=get_hourly_country_data(power_demand, country)\n",
    "    training_data=hourly_country_data[\"2015-01-01\":\"2019-12-31\"]\n",
    "    testing_data= hourly_country_data[\"2020-01-01\":\"2020-12-31\"]\n",
    "    Y = training_data[\"TotalLoadValue\"].values\n",
    "    X = training_data.index.values[:, np.newaxis]\n",
    "    \n",
    "    X_training, X_test, Y_training, Y_test = train_test_split(X, Y, test_size=0.2)\n",
    "\n",
    "    forest_hourly = ensemble.RandomForestRegressor()\n",
    "    forest_hourly.fit(X_training,Y_training)\n",
    "    prediction_training = forest_hourly.predict(X_training)\n",
    "\n",
    "    prediction_test = forest_hourly.predict(X_test)\n",
    "\n",
    "    print(f\"R^2 for {country} for Training- Data: {r2_score(Y_training, prediction_training)}\")\n",
    "    print(f\"R^2 for {country} for Test- Data: {r2_score(Y_test, prediction_test)}\")\n",
    "    \n",
    "   \n",
    "    X_2020 = testing_data.index.values[:, np.newaxis]\n",
    "    predict_2020= forest_hourly.predict(X_2020)\n",
    "   \n",
    "    \n",
    "    #hourly_country_data = hourly_country_data.copy()\n",
    "    \n",
    "    hourly_country_data[\"predict_2020\"]=np.full(fill_value=np.nan,shape=(len(hourly_country_data,)))\n",
    "    \n",
    "    \n",
    "    hourly_country_data[\"predict_2020\"][\"2020-01-01\":\"2020-12-31\"]=predict_2020\n",
    "    \n",
    "    \n",
    "    \n",
    "    mean_prediction=hourly_country_data.resample(\"1m\")[\"predict_2020\"].mean()\n",
    "    mean_observed=hourly_country_data.resample(\"1m\")[\"TotalLoadValue\"].mean()\n",
    "    \n",
    "    plt.plot(mean_observed/mean_prediction, label= country)\n",
    "    \n",
    "    \n",
    "    "
   ]
  },
  {
   "cell_type": "code",
   "execution_count": 74,
   "metadata": {},
   "outputs": [
    {
     "name": "stdout",
     "output_type": "stream",
     "text": [
      "Austria\n",
      "R^2 for Austria for Training- Data: 0.9938835980430941\n",
      "R^2 for Austria for Test- Data: 0.9583240486352559\n",
      "Switzerland\n"
     ]
    },
    {
     "name": "stderr",
     "output_type": "stream",
     "text": [
      "C:\\Users\\Mobil 1\\anaconda3\\lib\\site-packages\\ipykernel_launcher.py:30: SettingWithCopyWarning: \n",
      "A value is trying to be set on a copy of a slice from a DataFrame\n",
      "\n",
      "See the caveats in the documentation: https://pandas.pydata.org/pandas-docs/stable/user_guide/indexing.html#returning-a-view-versus-a-copy\n"
     ]
    },
    {
     "name": "stdout",
     "output_type": "stream",
     "text": [
      "R^2 for Switzerland for Training- Data: 0.9932447978526221\n",
      "R^2 for Switzerland for Test- Data: 0.9553723735228971\n",
      "Italy\n"
     ]
    },
    {
     "name": "stderr",
     "output_type": "stream",
     "text": [
      "C:\\Users\\Mobil 1\\anaconda3\\lib\\site-packages\\ipykernel_launcher.py:30: SettingWithCopyWarning: \n",
      "A value is trying to be set on a copy of a slice from a DataFrame\n",
      "\n",
      "See the caveats in the documentation: https://pandas.pydata.org/pandas-docs/stable/user_guide/indexing.html#returning-a-view-versus-a-copy\n"
     ]
    },
    {
     "name": "stdout",
     "output_type": "stream",
     "text": [
      "R^2 for Italy for Training- Data: 0.9933570896005142\n",
      "R^2 for Italy for Test- Data: 0.9517869128610015\n",
      "Spain\n"
     ]
    },
    {
     "name": "stderr",
     "output_type": "stream",
     "text": [
      "C:\\Users\\Mobil 1\\anaconda3\\lib\\site-packages\\ipykernel_launcher.py:30: SettingWithCopyWarning: \n",
      "A value is trying to be set on a copy of a slice from a DataFrame\n",
      "\n",
      "See the caveats in the documentation: https://pandas.pydata.org/pandas-docs/stable/user_guide/indexing.html#returning-a-view-versus-a-copy\n"
     ]
    },
    {
     "name": "stdout",
     "output_type": "stream",
     "text": [
      "R^2 for Spain for Training- Data: 0.9921394214144285\n",
      "R^2 for Spain for Test- Data: 0.9446630554655859\n",
      "Sweden\n",
      "R^2 for Sweden for Training- Data: 0.9962288830447822\n",
      "R^2 for Sweden for Test- Data: 0.9772500672283564\n",
      "United Kingdom\n",
      "R^2 for United Kingdom for Training- Data: 0.9907827526335957\n",
      "R^2 for United Kingdom for Test- Data: 0.9368849748928197\n",
      "Germany\n",
      "R^2 for Germany for Training- Data: 0.9942789690808622\n",
      "R^2 for Germany for Test- Data: 0.9590744487807236\n"
     ]
    },
    {
     "name": "stderr",
     "output_type": "stream",
     "text": [
      "C:\\Users\\Mobil 1\\anaconda3\\lib\\site-packages\\ipykernel_launcher.py:30: SettingWithCopyWarning: \n",
      "A value is trying to be set on a copy of a slice from a DataFrame\n",
      "\n",
      "See the caveats in the documentation: https://pandas.pydata.org/pandas-docs/stable/user_guide/indexing.html#returning-a-view-versus-a-copy\n"
     ]
    },
    {
     "data": {
      "image/png": "[encoded data removed]",
      "text/plain": [
       "<Figure size 432x288 with 1 Axes>"
      ]
     },
     "metadata": {
      "needs_background": "light"
     },
     "output_type": "display_data"
    }
   ],
   "source": [
    "model_prediction(\"Austria\")\n",
    "model_prediction(\"Switzerland\")\n",
    "model_prediction(\"Italy\")\n",
    "model_prediction(\"Spain\")\n",
    "model_prediction(\"Sweden\") \n",
    "model_prediction(\"United Kingdom\")\n",
    "model_prediction(\"Germany\")\n",
    "                 \n",
    "plt.legend()\n",
    "plt.show()"
   ]
  },
  {
   "cell_type": "code",
   "execution_count": 22,
   "metadata": {},
   "outputs": [
    {
     "data": {
      "text/plain": [
       "DateTime\n",
       "2020-01-01 00:00:00    9045.27\n",
       "2020-01-01 00:15:00    8711.80\n",
       "2020-01-01 00:30:00    8811.53\n",
       "2020-01-01 00:45:00    8847.80\n",
       "2020-01-01 01:00:00    8833.53\n",
       "                        ...   \n",
       "2020-05-13 10:00:00    7527.69\n",
       "2020-05-13 11:00:00    6932.69\n",
       "2020-05-13 12:00:00    7558.17\n",
       "2020-05-13 13:00:00    7243.80\n",
       "2020-05-13 14:00:00    7098.17\n",
       "Name: TotalLoadValue, Length: 593883, dtype: float64"
      ]
     },
     "execution_count": 22,
     "metadata": {},
     "output_type": "execute_result"
    }
   ],
   "source": [
    "power_demand[\"TotalLoadValue\"][\"2020-01-01\":\"2020-12-31\"]"
   ]
  },
  {
   "cell_type": "code",
   "execution_count": null,
   "metadata": {},
   "outputs": [],
   "source": []
  },
  {
   "cell_type": "markdown",
   "metadata": {},
   "source": [
    "## Exercise 3\n",
    "Answer the following questions:"
   ]
  },
  {
   "cell_type": "markdown",
   "metadata": {},
   "source": [
    "(1) Which country had the strongest decline in electricity consumption?"
   ]
  },
  {
   "cell_type": "markdown",
   "metadata": {},
   "source": [
    "< your answer goes here >"
   ]
  },
  {
   "cell_type": "markdown",
   "metadata": {},
   "source": [
    "(2) For which country does the fit work best?"
   ]
  },
  {
   "cell_type": "markdown",
   "metadata": {},
   "source": [
    "< your answer goes here >"
   ]
  },
  {
   "cell_type": "markdown",
   "metadata": {},
   "source": [
    "(3) Where is the difference of R2 between training data and test data the largest? What does that mean?"
   ]
  },
  {
   "cell_type": "markdown",
   "metadata": {},
   "source": [
    "< your answer goes here >"
   ]
  },
  {
   "cell_type": "markdown",
   "metadata": {},
   "source": [
    "(4) Look into the data of the country with the largest difference in the R2 of the training and the test data. Can you explain what is happening there? Might this effect our model?"
   ]
  },
  {
   "cell_type": "markdown",
   "metadata": {},
   "source": [
    "< your answer goes here >"
   ]
  },
  {
   "cell_type": "markdown",
   "metadata": {},
   "source": [
    "## Exercise 4"
   ]
  },
  {
   "cell_type": "markdown",
   "metadata": {},
   "source": [
    "The difference between model prediction and actual observation may help understanding how people behaved during the lockdown. In this exercise, you should come up with your own hypothesis of how people behaved and how this affected power consumption. You may, e.g., look into demand on different weekdays or in different hours. Once you have a hypothesis and a theory, why this hypothesis may be valid, test it with the model: is your hypothesis covered by what you observe in the load data?"
   ]
  },
  {
   "cell_type": "markdown",
   "metadata": {},
   "source": [
    "## Exercise 5\n",
    "\n",
    "Download ERA5 temperature data for the next lecture.\n",
    "\n",
    "First install necessary dependencies `xarray` and `cdsapi`:"
   ]
  },
  {
   "cell_type": "code",
   "execution_count": null,
   "metadata": {},
   "outputs": [],
   "source": [
    "conda install --yes xarray\n",
    "conda install --yes -c conda-forge cdsapi"
   ]
  },
  {
   "cell_type": "markdown",
   "metadata": {},
   "source": [
    "The [Copernicus Climate Data Store](https://cds.climate.copernicus.eu/) provides [reanalysis climate data](https://cds.climate.copernicus.eu/cdsapp#!/search?type=dataset&keywords=((%20%22Product%20type:%20Reanalysis%22%20))). We are going to download [ERA5](https://cds.climate.copernicus.eu/cdsapp#!/dataset/reanalysis-era5-land?tab=form) data and use the [temperature 2m above ground values](https://apps.ecmwf.int/codes/grib/param-db?id=167)."
   ]
  },
  {
   "cell_type": "markdown",
   "metadata": {},
   "source": [
    "Register for the CDS API and install the API key by following [this guide](https://cds.climate.copernicus.eu/api-how-to). You don't need to run `pip install cdsapi`, this has been done in the cell above already using conda."
   ]
  },
  {
   "cell_type": "code",
   "execution_count": 12,
   "metadata": {
    "scrolled": false
   },
   "outputs": [],
   "source": [
    "import cdsapi\n",
    "\n",
    "c = cdsapi.Client()"
   ]
  },
  {
   "cell_type": "code",
   "execution_count": 13,
   "metadata": {},
   "outputs": [],
   "source": [
    "# Add the path to the lecture repository here:\n",
    "PATH_TO_LECTURE_REPO = 'C:\\programming\\lecture-scientific-computing'\n",
    "\n",
    "if not os.path.isdir(Path(PATH_TO_LECTURE_REPO) / 'lecture00-introduction'):\n",
    "    raise RuntimeError(f\"Wrong path to lecture repository: PATH_TO_LECTURE_REPO = {PATH_TO_LECTURE_REPO}\")"
   ]
  },
  {
   "cell_type": "markdown",
   "metadata": {},
   "source": [
    "We'll download data from 2015 to 2020 in a bounding box which covers all countries we used so far for our analysis.\n",
    "To make the download a bit faster, we'll use a [0.5° grid](https://confluence.ecmwf.int/display/CKB/ERA5%3A+Web+API+to+CDS+API) instead of the 0.1° grid. This will download approximately 500MB. The download might take a couple of hours, because the data is prepared on their servers before it can be downloaded."
   ]
  },
  {
   "cell_type": "code",
   "execution_count": 15,
   "metadata": {},
   "outputs": [
    {
     "name": "stderr",
     "output_type": "stream",
     "text": [
      "2020-06-01 09:15:57,410 INFO Welcome to the CDS\n",
      "2020-06-01 09:15:57,410 INFO Sending request to https://cds.climate.copernicus.eu/api/v2/resources/reanalysis-era5-land\n",
      "2020-06-01 09:15:58,557 INFO Downloading http://136.156.133.39/cache-compute-0012/cache/data4/adaptor.mars.internal-1590681099.923739-18061-1-d4ee6022-e6f4-4d17-bcb2-782d9907eb5a.nc to C:\\programming\\lecture-scientific-computing\\data\\temperatures_era5.nc.part (473.2M)\n",
      "2020-06-01 09:18:25,257 INFO Download rate 3.2M/s  \n"
     ]
    },
    {
     "ename": "FileExistsError",
     "evalue": "[WinError 183] Eine Datei kann nicht erstellt werden, wenn sie bereits vorhanden ist: 'C:\\\\programming\\\\lecture-scientific-computing\\\\data\\\\temperatures_era5.nc.part' -> 'C:\\\\programming\\\\lecture-scientific-computing\\\\data\\\\temperatures_era5.nc'",
     "output_type": "error",
     "traceback": [
      "\u001b[1;31m---------------------------------------------------------------------------\u001b[0m",
      "\u001b[1;31mFileExistsError\u001b[0m                           Traceback (most recent call last)",
      "\u001b[1;32m<ipython-input-15-7193a2e20aa4>\u001b[0m in \u001b[0;36m<module>\u001b[1;34m\u001b[0m\n\u001b[0;32m     20\u001b[0m \u001b[1;33m\u001b[0m\u001b[0m\n\u001b[0;32m     21\u001b[0m \u001b[1;31m# this prevents you from accidentally using broken files:\u001b[0m\u001b[1;33m\u001b[0m\u001b[1;33m\u001b[0m\u001b[1;33m\u001b[0m\u001b[0m\n\u001b[1;32m---> 22\u001b[1;33m \u001b[0mos\u001b[0m\u001b[1;33m.\u001b[0m\u001b[0mrename\u001b[0m\u001b[1;33m(\u001b[0m\u001b[1;34mf\"{filename}.part\"\u001b[0m\u001b[1;33m,\u001b[0m \u001b[0mfilename\u001b[0m\u001b[1;33m)\u001b[0m\u001b[1;33m\u001b[0m\u001b[1;33m\u001b[0m\u001b[0m\n\u001b[0m",
      "\u001b[1;31mFileExistsError\u001b[0m: [WinError 183] Eine Datei kann nicht erstellt werden, wenn sie bereits vorhanden ist: 'C:\\\\programming\\\\lecture-scientific-computing\\\\data\\\\temperatures_era5.nc.part' -> 'C:\\\\programming\\\\lecture-scientific-computing\\\\data\\\\temperatures_era5.nc'"
     ]
    }
   ],
   "source": [
    "filename = Path(PATH_TO_LECTURE_REPO) / 'data' / 'temperatures_era5.nc'\n",
    "\n",
    "north, west, south, east = 70.,-13.5, 35.5, 24.5\n",
    "\n",
    "c.retrieve(\n",
    "    'reanalysis-era5-land',\n",
    "    {\n",
    "        'format': 'netcdf',\n",
    "        'variable': '2m_temperature',\n",
    "        'area': [\n",
    "            north, west, south, east\n",
    "        ],\n",
    "        'grid': [0.5, 0.5],  # grid in 0.5deg steps in longitude/latitude\n",
    "        'day': [f\"{day:02d}\" for day in range(1, 32)],\n",
    "        'time': [f\"{hour:02d}:00\" for hour in range(24)],\n",
    "        'month': [f\"{month:02d}\" for month in range(1, 13)],\n",
    "        'year': [str(year) for year in range(2015, 2021)],\n",
    "    },\n",
    "    f\"{filename}.part\")\n",
    "\n",
    "# this prevents you from accidentally using broken files:\n",
    "os.rename(f\"{filename}.part\", filename)"
   ]
  },
  {
   "cell_type": "markdown",
   "metadata": {},
   "source": [
    "## Exercise 6\n",
    "\n",
    "Load the file downloaded in exercise 3 and plot the temperature for one location. This is also a test if the download was successful. To load the file import the library `xarray`. Typically it is imported by using `import xarray as xr`. Then load the file using the command `xr.load_dataset(filename)`. Check the type of the return value. Then select the data variable `t2m` (temperature at 2m), select the values for `longitude=16.5` and `latitude=48` by using `temperatures_dataset.t2m.sel(longitude=16.5, latitude=48.)`. Then plot the result by calling `.plot()` on the resulting object.\n",
    "\n",
    "Does the result look reasonable?"
   ]
  },
  {
   "cell_type": "code",
   "execution_count": 5,
   "metadata": {},
   "outputs": [],
   "source": [
    "import xarray as xr\n",
    "\n",
    "temperature_data = xr.load_dataset('C:\\\\programming\\\\lecture-scientific-computing\\\\data\\\\temperatures_era5.nc')"
   ]
  },
  {
   "cell_type": "code",
   "execution_count": 7,
   "metadata": {},
   "outputs": [
    {
     "name": "stdout",
     "output_type": "stream",
     "text": [
      "<class 'xarray.core.dataset.Dataset'>\n"
     ]
    }
   ],
   "source": [
    "print(type(temperature_data))"
   ]
  },
  {
   "cell_type": "code",
   "execution_count": 8,
   "metadata": {},
   "outputs": [],
   "source": [
    "our_temperature = temperature_data.t2m.sel(longitude=16.5, latitude=48.)"
   ]
  },
  {
   "cell_type": "code",
   "execution_count": 9,
   "metadata": {},
   "outputs": [
    {
     "data": {
      "text/plain": [
       "[<matplotlib.lines.Line2D at 0x26004480848>]"
      ]
     },
     "execution_count": 9,
     "metadata": {},
     "output_type": "execute_result"
    },
    {
     "data": {
      "image/png": "[encoded data removed]",
      "text/plain": [
       "<Figure size 432x288 with 1 Axes>"
      ]
     },
     "metadata": {
      "needs_background": "light"
     },
     "output_type": "display_data"
    }
   ],
   "source": [
    "our_temperature.plot()"
   ]
  }
 ],
 "metadata": {
  "kernelspec": {
   "display_name": "Python 3",
   "language": "python",
   "name": "python3"
  },
  "language_info": {
   "codemirror_mode": {
    "name": "ipython",
    "version": 3
   },
   "file_extension": ".py",
   "mimetype": "text/x-python",
   "name": "python",
   "nbconvert_exporter": "python",
   "pygments_lexer": "ipython3",
   "version": "3.7.6"
  }
 },
 "nbformat": 4,
 "nbformat_minor": 4
}
