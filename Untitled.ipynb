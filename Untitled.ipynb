{
 "cells": [
  {
   "cell_type": "code",
   "execution_count": 8,
   "metadata": {},
   "outputs": [
    {
     "name": "stdout",
     "output_type": "stream",
     "text": [
      "['https://github.com/lumbric/homework-scientific-computing.git', 'https://github.com/sanvibol/homework-scientific-computing.git', 'https://github.com/agnesfe777/homework-scientific-computing.git', 'https://github.com/adob360/homework-scientific-computing.git', 'https://github.com/barbarakalous/homework-scientific-computing.git', 'https://github.com/aleks-cortijo/homework-scientific-computing.git', 'https://github.com/IvanaBat/homework-scientific-computing.git', 'https://github.com/Bokubst/homework-scientific-computing.git', 'https://github.com/fogerl/homework-scientific-computing.git']\n",
      "lumbric\n",
      "sanvibol\n",
      "agnesfe777\n",
      "adob360\n",
      "barbarakalous\n",
      "aleks-cortijo\n",
      "IvanaBat\n",
      "Bokubst\n",
      "fogerl\n"
     ]
    }
   ],
   "source": [
    "#!/usr/bin/python3\n",
    "\"\"\"List all forks of the homework repository or add forks as Git remotes.\"\"\"\n",
    "\n",
    "import requests\n",
    "import argparse\n",
    "import subprocess\n",
    "\n",
    "\n",
    "GH_ACCOUNT = 'inwe-boku'\n",
    "GH_REPO = 'homework-scientific-computing'\n",
    "GH_API_URI = 'https://api.github.com/repos/{}/{}/forks'\n",
    "\n",
    "r = requests.get(GH_API_URI.format(GH_ACCOUNT, GH_REPO))\n",
    "#print(r)\n",
    "r.raise_for_status()\n",
    "forks = r.json()\n",
    "#print(forks)\n",
    "forks_uri = [fork['clone_url'] for fork in forks]\n",
    "print(forks_uri)\n",
    "\n",
    "for uri in forks_uri:\n",
    "    name = f\"{uri.split('/')[-2]}\"\n",
    "    print (name)\n"
   ]
  },
  {
   "cell_type": "code",
   "execution_count": null,
   "metadata": {},
   "outputs": [],
   "source": [
    "def main(mode):\n",
    "    r = requests.get(GH_API_URI.format(GH_ACCOUNT, GH_REPO))\n",
    "    r.raise_for_status()\n",
    "    forks = r.json()\n",
    "    forks_uri = [fork['clone_url'] for fork in forks]\n",
    "\n",
    "    if mode == 'print-name':\n",
    "        for uri in forks_uri:\n",
    "            print(f\"{uri.split('/')[-2]}\")\n",
    "    elif mode == 'print-url':\n",
    "        print(\"\\n\".join(forks_uri))\n",
    "    elif mode == 'add-remote':\n",
    "        for uri in forks_uri:\n",
    "            name = f\"{uri.split('/')[-2]}\"\n",
    "            print(f\"Adding {name} as remote...\")\n",
    "            subprocess.call([\"git\", \"remote\", \"add\", name, f\"{uri}\"])\n",
    "    else:\n",
    "        raise ValueError(f\"invalid mode: {mode}\")\n",
    "\n",
    "\n",
    "if __name__ == '__main__':\n",
    "    parser = argparse.ArgumentParser(description='Process some integers.')\n",
    "\n",
    "    # crazy workaround to allow option choices parameter:\n",
    "    # https://stackoverflow.com/a/40324463/859591\n",
    "    parser.add_argument('mode',\n",
    "                        const='print-name',\n",
    "                        default='print-name',\n",
    "                        nargs='?',\n",
    "                        choices=['print-name', 'print-url', 'add-remote'],\n",
    "                        help='an integer for the accumulator')\n",
    "\n",
    "    args = parser.parse_args()\n",
    "    main(mode=args.mode)\n",
    "\n"
   ]
  }
 ],
 "metadata": {
  "kernelspec": {
   "display_name": "Python 3",
   "language": "python",
   "name": "python3"
  },
  "language_info": {
   "codemirror_mode": {
    "name": "ipython",
    "version": 3
   },
   "file_extension": ".py",
   "mimetype": "text/x-python",
   "name": "python",
   "nbconvert_exporter": "python",
   "pygments_lexer": "ipython3",
   "version": "3.7.6"
  }
 },
 "nbformat": 4,
 "nbformat_minor": 4
}
