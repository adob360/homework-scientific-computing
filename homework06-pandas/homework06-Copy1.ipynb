{
 "cells": [
  {
   "cell_type": "code",
   "execution_count": 1,
   "metadata": {},
   "outputs": [],
   "source": [
    "import matplotlib.pyplot as plt\n",
    "import pandas as pd\n",
    "import os\n",
    "import numpy as np\n",
    "import datetime\n",
    "import glob\n",
    "from pathlib import Path\n",
    "from sklearn import datasets, linear_model\n",
    "from sklearn.metrics import mean_squared_error, r2_score\n",
    "\n",
    "DOWNLOAD_DIR = 'D:\\\\scientific_computing'"
   ]
  },
  {
   "cell_type": "code",
   "execution_count": 2,
   "metadata": {},
   "outputs": [],
   "source": [
    "import os\n",
    "import datetime\n",
    "import glob\n",
    "from pathlib import Path\n",
    "\n",
    "import numpy as np\n",
    "import pandas as pd\n",
    "import matplotlib.pyplot as plt\n",
    "\n",
    "from sklearn import datasets, linear_model\n",
    "from sklearn.metrics import mean_squared_error, r2_score"
   ]
  },
  {
   "cell_type": "markdown",
   "metadata": {},
   "source": [
    "This will import the data, you have to run it to be able to solve the homework."
   ]
  },
  {
   "cell_type": "code",
   "execution_count": 3,
   "metadata": {},
   "outputs": [
    {
     "name": "stdout",
     "output_type": "stream",
     "text": [
      "Concatenating 68 csv files...\n",
      "Loading done.\n"
     ]
    }
   ],
   "source": [
    "def read_single_csv_entso_e(file):\n",
    "    return pd.read_csv(file, sep='\\t', encoding='utf-16', parse_dates=[\"DateTime\"])\n",
    "\n",
    "\n",
    "def load_complete_entso_e_data(directory):\n",
    "    pattern = Path(directory) / '*.csv'\n",
    "    files = glob.glob(str(pattern))\n",
    "\n",
    "    if not files:\n",
    "        raise ValueError(f\"No files found when searching in {pattern}, wrong directory?\")\n",
    "    \n",
    "    print(f'Concatenating {len(files)} csv files...')\n",
    "\n",
    "    each_csv_file = [read_single_csv_entso_e(file) for file in files]\n",
    "    data = pd.concat(each_csv_file, ignore_index=True)\n",
    "\n",
    "    data = data.sort_values(by=[\"AreaName\", \"DateTime\"])\n",
    "    data = data.set_index(\"DateTime\")\n",
    "\n",
    "    print(\"Loading done.\")\n",
    "\n",
    "    return data\n",
    "\n",
    "\n",
    "power_demand = load_complete_entso_e_data(DOWNLOAD_DIR)"
   ]
  },
  {
   "cell_type": "markdown",
   "metadata": {},
   "source": [
    "# Exercise 1 - Calculate the relation of Wednesday average consumption to Sunday average consumption for selected countries\n",
    "\n",
    "In this exercise, calculate the relation of Wednesday average consumption to Sunday average consumption for the following countries: Austria, Germany, United Kingdom, Spain, Sweden, Italy, Croatia.\n",
    "\n",
    "(1) First create a variable that contains only power consumption data for these countries. The pandas command ```isin()``` may be very helpful here. Reduce the data to only consider the period 2015-01-01 until 2019-12-31. The lecture slides may contain relevant code here.\n",
    "\n",
    "(2) Then, group the data by weekday and country (i.e. AreaName). Use ```groupby``` and ```mean```for that purpose. \n",
    "\n",
    "(3) Calculate for all countries the proportion of Wednesday (day 2) and Sunday (day 6) by dividing the two values.\n",
    "\n",
    "(4) For which country, this relative value is highest? What could this indicate?"
   ]
  },
  {
   "cell_type": "code",
   "execution_count": 83,
   "metadata": {},
   "outputs": [
    {
     "data": {
      "text/plain": [
       "array([2014, 2015, 2016, 2017, 2018, 2019, 2020], dtype=int64)"
      ]
     },
     "execution_count": 83,
     "metadata": {},
     "output_type": "execute_result"
    }
   ],
   "source": [
    "power_demand[\"Year\"].unique()"
   ]
  },
  {
   "cell_type": "code",
   "execution_count": 36,
   "metadata": {},
   "outputs": [],
   "source": [
    "countries=power_demand[\"AreaName\"].isin([\"Austria\", \"Germany\", \"United Kingdom\", \"Spain\", \"Sweden\", \"Italy\", \"Croatia\"])\n",
    "selected_time=power_demand[\"Year\"].isin([2015,2016,2017,2018,2019])\n"
   ]
  },
  {
   "cell_type": "code",
   "execution_count": null,
   "metadata": {},
   "outputs": [],
   "source": [
    "power_demand_selected=power_demand[countries & selected_time]\n",
    "power_demand_selected"
   ]
  },
  {
   "cell_type": "code",
   "execution_count": 14,
   "metadata": {},
   "outputs": [
    {
     "data": {
      "text/html": [
       "<div>\n",
       "<style scoped>\n",
       "    .dataframe tbody tr th:only-of-type {\n",
       "        vertical-align: middle;\n",
       "    }\n",
       "\n",
       "    .dataframe tbody tr th {\n",
       "        vertical-align: top;\n",
       "    }\n",
       "\n",
       "    .dataframe thead th {\n",
       "        text-align: right;\n",
       "    }\n",
       "</style>\n",
       "<table border=\"1\" class=\"dataframe\">\n",
       "  <thead>\n",
       "    <tr style=\"text-align: right;\">\n",
       "      <th></th>\n",
       "      <th>Year</th>\n",
       "      <th>Month</th>\n",
       "      <th>Day</th>\n",
       "      <th>ResolutionCode</th>\n",
       "      <th>areacode</th>\n",
       "      <th>AreaTypeCode</th>\n",
       "      <th>AreaName</th>\n",
       "      <th>MapCode</th>\n",
       "      <th>TotalLoadValue</th>\n",
       "      <th>UpdateTime</th>\n",
       "    </tr>\n",
       "    <tr>\n",
       "      <th>DateTime</th>\n",
       "      <th></th>\n",
       "      <th></th>\n",
       "      <th></th>\n",
       "      <th></th>\n",
       "      <th></th>\n",
       "      <th></th>\n",
       "      <th></th>\n",
       "      <th></th>\n",
       "      <th></th>\n",
       "      <th></th>\n",
       "    </tr>\n",
       "  </thead>\n",
       "  <tbody>\n",
       "    <tr>\n",
       "      <th>2015-01-01 00:00:00</th>\n",
       "      <td>2015</td>\n",
       "      <td>1</td>\n",
       "      <td>1</td>\n",
       "      <td>PT15M</td>\n",
       "      <td>10YAT-APG------L</td>\n",
       "      <td>CTY</td>\n",
       "      <td>Austria</td>\n",
       "      <td>AT</td>\n",
       "      <td>6017.2</td>\n",
       "      <td>2017-09-14 04:00:15</td>\n",
       "    </tr>\n",
       "    <tr>\n",
       "      <th>2015-01-01 00:15:00</th>\n",
       "      <td>2015</td>\n",
       "      <td>1</td>\n",
       "      <td>1</td>\n",
       "      <td>PT15M</td>\n",
       "      <td>10YAT-APG------L</td>\n",
       "      <td>CTY</td>\n",
       "      <td>Austria</td>\n",
       "      <td>AT</td>\n",
       "      <td>5966.8</td>\n",
       "      <td>2017-09-14 04:00:15</td>\n",
       "    </tr>\n",
       "    <tr>\n",
       "      <th>2015-01-01 00:30:00</th>\n",
       "      <td>2015</td>\n",
       "      <td>1</td>\n",
       "      <td>1</td>\n",
       "      <td>PT15M</td>\n",
       "      <td>10YAT-APG------L</td>\n",
       "      <td>CTY</td>\n",
       "      <td>Austria</td>\n",
       "      <td>AT</td>\n",
       "      <td>5935.6</td>\n",
       "      <td>2017-09-14 04:00:15</td>\n",
       "    </tr>\n",
       "    <tr>\n",
       "      <th>2015-01-01 00:45:00</th>\n",
       "      <td>2015</td>\n",
       "      <td>1</td>\n",
       "      <td>1</td>\n",
       "      <td>PT15M</td>\n",
       "      <td>10YAT-APG------L</td>\n",
       "      <td>CTY</td>\n",
       "      <td>Austria</td>\n",
       "      <td>AT</td>\n",
       "      <td>5934.4</td>\n",
       "      <td>2017-09-14 04:00:15</td>\n",
       "    </tr>\n",
       "    <tr>\n",
       "      <th>2015-01-01 01:00:00</th>\n",
       "      <td>2015</td>\n",
       "      <td>1</td>\n",
       "      <td>1</td>\n",
       "      <td>PT15M</td>\n",
       "      <td>10YAT-APG------L</td>\n",
       "      <td>CTY</td>\n",
       "      <td>Austria</td>\n",
       "      <td>AT</td>\n",
       "      <td>5750.8</td>\n",
       "      <td>2017-09-14 04:00:15</td>\n",
       "    </tr>\n",
       "    <tr>\n",
       "      <th>...</th>\n",
       "      <td>...</td>\n",
       "      <td>...</td>\n",
       "      <td>...</td>\n",
       "      <td>...</td>\n",
       "      <td>...</td>\n",
       "      <td>...</td>\n",
       "      <td>...</td>\n",
       "      <td>...</td>\n",
       "      <td>...</td>\n",
       "      <td>...</td>\n",
       "    </tr>\n",
       "    <tr>\n",
       "      <th>2019-12-31 22:45:00</th>\n",
       "      <td>2019</td>\n",
       "      <td>12</td>\n",
       "      <td>31</td>\n",
       "      <td>PT15M</td>\n",
       "      <td>10YAT-APG------L</td>\n",
       "      <td>CTY</td>\n",
       "      <td>Austria</td>\n",
       "      <td>AT</td>\n",
       "      <td>6088.4</td>\n",
       "      <td>2020-02-10 10:46:17</td>\n",
       "    </tr>\n",
       "    <tr>\n",
       "      <th>2019-12-31 23:00:00</th>\n",
       "      <td>2019</td>\n",
       "      <td>12</td>\n",
       "      <td>31</td>\n",
       "      <td>PT15M</td>\n",
       "      <td>10YAT-APG------L</td>\n",
       "      <td>CTY</td>\n",
       "      <td>Austria</td>\n",
       "      <td>AT</td>\n",
       "      <td>6058.8</td>\n",
       "      <td>2020-04-01 04:16:28</td>\n",
       "    </tr>\n",
       "    <tr>\n",
       "      <th>2019-12-31 23:15:00</th>\n",
       "      <td>2019</td>\n",
       "      <td>12</td>\n",
       "      <td>31</td>\n",
       "      <td>PT15M</td>\n",
       "      <td>10YAT-APG------L</td>\n",
       "      <td>CTY</td>\n",
       "      <td>Austria</td>\n",
       "      <td>AT</td>\n",
       "      <td>6000.8</td>\n",
       "      <td>2020-04-01 04:16:28</td>\n",
       "    </tr>\n",
       "    <tr>\n",
       "      <th>2019-12-31 23:30:00</th>\n",
       "      <td>2019</td>\n",
       "      <td>12</td>\n",
       "      <td>31</td>\n",
       "      <td>PT15M</td>\n",
       "      <td>10YAT-APG------L</td>\n",
       "      <td>CTY</td>\n",
       "      <td>Austria</td>\n",
       "      <td>AT</td>\n",
       "      <td>5936.4</td>\n",
       "      <td>2020-04-01 04:16:28</td>\n",
       "    </tr>\n",
       "    <tr>\n",
       "      <th>2019-12-31 23:45:00</th>\n",
       "      <td>2019</td>\n",
       "      <td>12</td>\n",
       "      <td>31</td>\n",
       "      <td>PT15M</td>\n",
       "      <td>10YAT-APG------L</td>\n",
       "      <td>CTY</td>\n",
       "      <td>Austria</td>\n",
       "      <td>AT</td>\n",
       "      <td>5871.2</td>\n",
       "      <td>2020-04-01 04:16:28</td>\n",
       "    </tr>\n",
       "  </tbody>\n",
       "</table>\n",
       "<p>175296 rows × 10 columns</p>\n",
       "</div>"
      ],
      "text/plain": [
       "                     Year  Month  Day ResolutionCode          areacode  \\\n",
       "DateTime                                                                 \n",
       "2015-01-01 00:00:00  2015      1    1          PT15M  10YAT-APG------L   \n",
       "2015-01-01 00:15:00  2015      1    1          PT15M  10YAT-APG------L   \n",
       "2015-01-01 00:30:00  2015      1    1          PT15M  10YAT-APG------L   \n",
       "2015-01-01 00:45:00  2015      1    1          PT15M  10YAT-APG------L   \n",
       "2015-01-01 01:00:00  2015      1    1          PT15M  10YAT-APG------L   \n",
       "...                   ...    ...  ...            ...               ...   \n",
       "2019-12-31 22:45:00  2019     12   31          PT15M  10YAT-APG------L   \n",
       "2019-12-31 23:00:00  2019     12   31          PT15M  10YAT-APG------L   \n",
       "2019-12-31 23:15:00  2019     12   31          PT15M  10YAT-APG------L   \n",
       "2019-12-31 23:30:00  2019     12   31          PT15M  10YAT-APG------L   \n",
       "2019-12-31 23:45:00  2019     12   31          PT15M  10YAT-APG------L   \n",
       "\n",
       "                    AreaTypeCode AreaName MapCode  TotalLoadValue  \\\n",
       "DateTime                                                            \n",
       "2015-01-01 00:00:00          CTY  Austria      AT          6017.2   \n",
       "2015-01-01 00:15:00          CTY  Austria      AT          5966.8   \n",
       "2015-01-01 00:30:00          CTY  Austria      AT          5935.6   \n",
       "2015-01-01 00:45:00          CTY  Austria      AT          5934.4   \n",
       "2015-01-01 01:00:00          CTY  Austria      AT          5750.8   \n",
       "...                          ...      ...     ...             ...   \n",
       "2019-12-31 22:45:00          CTY  Austria      AT          6088.4   \n",
       "2019-12-31 23:00:00          CTY  Austria      AT          6058.8   \n",
       "2019-12-31 23:15:00          CTY  Austria      AT          6000.8   \n",
       "2019-12-31 23:30:00          CTY  Austria      AT          5936.4   \n",
       "2019-12-31 23:45:00          CTY  Austria      AT          5871.2   \n",
       "\n",
       "                              UpdateTime  \n",
       "DateTime                                  \n",
       "2015-01-01 00:00:00  2017-09-14 04:00:15  \n",
       "2015-01-01 00:15:00  2017-09-14 04:00:15  \n",
       "2015-01-01 00:30:00  2017-09-14 04:00:15  \n",
       "2015-01-01 00:45:00  2017-09-14 04:00:15  \n",
       "2015-01-01 01:00:00  2017-09-14 04:00:15  \n",
       "...                                  ...  \n",
       "2019-12-31 22:45:00  2020-02-10 10:46:17  \n",
       "2019-12-31 23:00:00  2020-04-01 04:16:28  \n",
       "2019-12-31 23:15:00  2020-04-01 04:16:28  \n",
       "2019-12-31 23:30:00  2020-04-01 04:16:28  \n",
       "2019-12-31 23:45:00  2020-04-01 04:16:28  \n",
       "\n",
       "[175296 rows x 10 columns]"
      ]
     },
     "execution_count": 14,
     "metadata": {},
     "output_type": "execute_result"
    }
   ],
   "source": [
    "\n",
    "\n",
    "power_demand_selected_at=power_demand_selected[power_demand_selected[\"AreaName\"]==\"Austria\"]\n",
    "power_demand_selected_at"
   ]
  },
  {
   "cell_type": "code",
   "execution_count": 16,
   "metadata": {},
   "outputs": [
    {
     "data": {
      "text/html": [
       "<div>\n",
       "<style scoped>\n",
       "    .dataframe tbody tr th:only-of-type {\n",
       "        vertical-align: middle;\n",
       "    }\n",
       "\n",
       "    .dataframe tbody tr th {\n",
       "        vertical-align: top;\n",
       "    }\n",
       "\n",
       "    .dataframe thead th {\n",
       "        text-align: right;\n",
       "    }\n",
       "</style>\n",
       "<table border=\"1\" class=\"dataframe\">\n",
       "  <thead>\n",
       "    <tr style=\"text-align: right;\">\n",
       "      <th></th>\n",
       "      <th>Year</th>\n",
       "      <th>Month</th>\n",
       "      <th>Day</th>\n",
       "      <th>TotalLoadValue</th>\n",
       "    </tr>\n",
       "    <tr>\n",
       "      <th>DateTime</th>\n",
       "      <th></th>\n",
       "      <th></th>\n",
       "      <th></th>\n",
       "      <th></th>\n",
       "    </tr>\n",
       "  </thead>\n",
       "  <tbody>\n",
       "    <tr>\n",
       "      <th>0</th>\n",
       "      <td>2017.003831</td>\n",
       "      <td>6.521073</td>\n",
       "      <td>15.701149</td>\n",
       "      <td>7400.972206</td>\n",
       "    </tr>\n",
       "    <tr>\n",
       "      <th>1</th>\n",
       "      <td>2017.007663</td>\n",
       "      <td>6.505747</td>\n",
       "      <td>15.770115</td>\n",
       "      <td>7542.120003</td>\n",
       "    </tr>\n",
       "    <tr>\n",
       "      <th>2</th>\n",
       "      <td>2017.000000</td>\n",
       "      <td>6.515385</td>\n",
       "      <td>15.776923</td>\n",
       "      <td>7597.097115</td>\n",
       "    </tr>\n",
       "    <tr>\n",
       "      <th>3</th>\n",
       "      <td>2016.992337</td>\n",
       "      <td>6.524904</td>\n",
       "      <td>15.785441</td>\n",
       "      <td>7531.484722</td>\n",
       "    </tr>\n",
       "    <tr>\n",
       "      <th>4</th>\n",
       "      <td>2016.996169</td>\n",
       "      <td>6.517241</td>\n",
       "      <td>15.620690</td>\n",
       "      <td>7370.000862</td>\n",
       "    </tr>\n",
       "    <tr>\n",
       "      <th>5</th>\n",
       "      <td>2016.996169</td>\n",
       "      <td>6.544061</td>\n",
       "      <td>15.800766</td>\n",
       "      <td>6448.911574</td>\n",
       "    </tr>\n",
       "    <tr>\n",
       "      <th>6</th>\n",
       "      <td>2017.000000</td>\n",
       "      <td>6.536398</td>\n",
       "      <td>15.639847</td>\n",
       "      <td>5982.295785</td>\n",
       "    </tr>\n",
       "  </tbody>\n",
       "</table>\n",
       "</div>"
      ],
      "text/plain": [
       "                 Year     Month        Day  TotalLoadValue\n",
       "DateTime                                                  \n",
       "0         2017.003831  6.521073  15.701149     7400.972206\n",
       "1         2017.007663  6.505747  15.770115     7542.120003\n",
       "2         2017.000000  6.515385  15.776923     7597.097115\n",
       "3         2016.992337  6.524904  15.785441     7531.484722\n",
       "4         2016.996169  6.517241  15.620690     7370.000862\n",
       "5         2016.996169  6.544061  15.800766     6448.911574\n",
       "6         2017.000000  6.536398  15.639847     5982.295785"
      ]
     },
     "execution_count": 16,
     "metadata": {},
     "output_type": "execute_result"
    }
   ],
   "source": [
    "power_demand_grouped_at = power_demand_selected_at.groupby(power_demand_selected_at.index.weekday).mean()\n",
    "power_demand_grouped_at"
   ]
  },
  {
   "cell_type": "code",
   "execution_count": 20,
   "metadata": {},
   "outputs": [
    {
     "data": {
      "text/plain": [
       "1.2699300382093988"
      ]
     },
     "execution_count": 20,
     "metadata": {},
     "output_type": "execute_result"
    }
   ],
   "source": [
    "power_demand_grouped_at[\"TotalLoadValue\"][2]/power_demand_grouped_at[\"TotalLoadValue\"][6]"
   ]
  },
  {
   "cell_type": "code",
   "execution_count": 19,
   "metadata": {},
   "outputs": [
    {
     "data": {
      "text/plain": [
       "7597.097115384564"
      ]
     },
     "execution_count": 19,
     "metadata": {},
     "output_type": "execute_result"
    }
   ],
   "source": [
    "power_demand_grouped_at.loc[2][3]/power_demand_grouped_at.loc[2]"
   ]
  },
  {
   "cell_type": "code",
   "execution_count": 42,
   "metadata": {},
   "outputs": [],
   "source": [
    "def wednesday_sunday_relation(*countries):\n",
    "    ratio_list=[]\n",
    "    country_ratio={}\n",
    "    \n",
    "    for country in countries:\n",
    "        power_demand_selected_c=power_demand_selected[power_demand_selected[\"AreaName\"]==country]\n",
    "        power_demand_grouped_c = power_demand_selected_c.groupby(power_demand_selected_c.index.weekday).mean()\n",
    "        ratio=power_demand_grouped_c.loc[2][3]/power_demand_grouped_c.loc[6][3]\n",
    "        country_ratio[ratio]=country\n",
    "        ratio_list.append(ratio)\n",
    "    print(f\"wednesday- sunday- ratio: {country_ratio}\")\n",
    "    max_value=max(ratio_list)\n",
    "    print(f\"{country_ratio[max_value]} has the highest Wednesday- Sunday ratio. The value is: {max_value}\")\n",
    "    return max_value\n",
    "    \n",
    "    \n",
    "    \n",
    "    "
   ]
  },
  {
   "cell_type": "code",
   "execution_count": 43,
   "metadata": {},
   "outputs": [
    {
     "name": "stdout",
     "output_type": "stream",
     "text": [
      "wednesday- sunday- ratio: {1.2699300382093988: 'Austria', 1.2984684924675223: 'Germany', 1.2112472535692624: 'Spain', 1.117264750947256: 'Sweden', 1.3762369971752841: 'Italy', 1.1332241058074153: 'United Kingdom', 1.1498820059246304: 'Croatia'}\n",
      "Italy has the highest Wednesday- Sunday ratio. The value is: 1.3762369971752841\n"
     ]
    },
    {
     "data": {
      "text/plain": [
       "1.3762369971752841"
      ]
     },
     "execution_count": 43,
     "metadata": {},
     "output_type": "execute_result"
    }
   ],
   "source": [
    "wednesday_sunday_relation(\"Austria\",\"Germany\", \"Spain\", \"Sweden\",\"Italy\", \"United Kingdom\", \"Croatia\")"
   ]
  },
  {
   "cell_type": "markdown",
   "metadata": {},
   "source": [
    "# Exercise 2 - Calculate the monthly average consumption as deviation from mean consumption\n",
    "\n",
    "For the same countries as in the above dataset, calculate the monthly mean consumption as deviation from the mean of consumption over the whole time. Plot the curves for all countries.\n",
    "\n",
    "(1) First create a variable that contains only power consumption data for the selected countries. The pandas command ```isin()``` may be very helpful here. If you did Exercise 1, you can use the same dataset.\n",
    "\n",
    "(2) Then, aggregate the data by country (i.e. AreaName) and month. Use ```groupby``` and ```mean``` for that purpose. Select the column ```TotalLoadValue``` from the result.\n",
    "\n",
    "(3)  Aggregate the data by country (i..e AreaName) only, i.e. calculate the average consumption by country using ```groupby``` and ```mean```. Select the column ```TotalLoadValue``` from the result.\n",
    "\n",
    "(4) Divide the result of (2) by (3) and observe how well broadcasting works here.\n",
    "\n",
    "(5) Use the command ```unstack``` on the result. How does the table look now? Plot the result. If your resulting, unstacked dataframe is called ```result```, you may use ```result.plot()``` to get a nice plot.\n",
    "\n",
    "(6) How would you explain the difference in the curve between Croatia and Sweden?\n"
   ]
  },
  {
   "cell_type": "code",
   "execution_count": null,
   "metadata": {},
   "outputs": [],
   "source": []
  },
  {
   "cell_type": "markdown",
   "metadata": {},
   "source": [
    "# Exercise 3 - calculate the hourly average consumption as deviation from mean consumption\n",
    "\n",
    "Do the same as in exercise 2, but now for the hourly average consumption. I.e. how much is consumed on each of the 24 hours of a day?\n",
    "\n",
    "Which country has the lowest, which the highest variability? What may be the reason for it?"
   ]
  },
  {
   "cell_type": "code",
   "execution_count": null,
   "metadata": {},
   "outputs": [],
   "source": []
  },
  {
   "cell_type": "markdown",
   "metadata": {},
   "source": [
    "# Exercise 4 - Calculate the average load per capita\n",
    "\n",
    "Below you find a table with population data for our selected countries. You should use it to calculate per capita consumption.\n",
    "\n",
    "(1) Calculate the average load in all countries using ```groupby``` and ```mean``` and select the column ```TotalLoadValue``` from the result.\n",
    "\n",
    "(2) Divide the result by the ```Population``` column of the dataframe ```population```. Observe, how broadcasting helps here nicely.\n",
    "\n",
    "(3) Plot the result. Which country has the highest load, which the lowest? What may be the reason? In which unit is this value? How could we convert it to MWh per year?"
   ]
  },
  {
   "cell_type": "code",
   "execution_count": null,
   "metadata": {},
   "outputs": [],
   "source": [
    "population = pd.DataFrame({'Country': [\"Austria\", \"Croatia\", \"Germany\", \"Italy\", \"Spain\", \"Sweden\", \"United Kingdom\"],\n",
    "             'Population': [8840521, 4087843, 82905782, 60421760, 46796540, 10175214, 66460344]})\n",
    "\n",
    "population.index = population[\"Country\"]\n",
    "\n",
    "population"
   ]
  },
  {
   "cell_type": "code",
   "execution_count": null,
   "metadata": {},
   "outputs": [],
   "source": []
  }
 ],
 "metadata": {
  "kernelspec": {
   "display_name": "Python 3",
   "language": "python",
   "name": "python3"
  },
  "language_info": {
   "codemirror_mode": {
    "name": "ipython",
    "version": 3
   },
   "file_extension": ".py",
   "mimetype": "text/x-python",
   "name": "python",
   "nbconvert_exporter": "python",
   "pygments_lexer": "ipython3",
   "version": "3.7.6"
  }
 },
 "nbformat": 4,
 "nbformat_minor": 4
}
