{
 "cells": [
  {
   "cell_type": "code",
   "execution_count": 1,
   "metadata": {},
   "outputs": [],
   "source": [
    "import matplotlib.pyplot as plt\n",
    "import pandas as pd\n",
    "import os\n",
    "import numpy as np\n",
    "import datetime\n",
    "import glob\n",
    "from pathlib import Path\n",
    "from sklearn import datasets, linear_model\n",
    "from sklearn.metrics import mean_squared_error, r2_score\n",
    "\n",
    "DOWNLOAD_DIR = 'F:\\\\scientific_computing'"
   ]
  },
  {
   "cell_type": "markdown",
   "metadata": {},
   "source": [
    "This will import the data, you have to run it to be able to solve the homework."
   ]
  },
  {
   "cell_type": "code",
   "execution_count": 2,
   "metadata": {},
   "outputs": [
    {
     "name": "stdout",
     "output_type": "stream",
     "text": [
      "Concatenating 68 csv files...\n",
      "Loading done.\n"
     ]
    }
   ],
   "source": [
    "def read_single_csv_entso_e(file):\n",
    "    return pd.read_csv(file, sep='\\t', encoding='utf-16', parse_dates=[\"DateTime\"])\n",
    "\n",
    "\n",
    "def load_complete_entso_e_data(directory):\n",
    "    pattern = Path(directory) / '*.csv'\n",
    "    files = glob.glob(str(pattern))\n",
    "\n",
    "    if not files:\n",
    "        raise ValueError(f\"No files found when searching in {pattern}, wrong directory?\")\n",
    "    \n",
    "    print(f'Concatenating {len(files)} csv files...')\n",
    "\n",
    "    each_csv_file = [read_single_csv_entso_e(file) for file in files]\n",
    "    data = pd.concat(each_csv_file, ignore_index=True)\n",
    "\n",
    "    data = data.sort_values(by=[\"AreaName\", \"DateTime\"])\n",
    "    data = data.set_index(\"DateTime\")\n",
    "\n",
    "    print(\"Loading done.\")\n",
    "\n",
    "    return data\n",
    "\n",
    "\n",
    "power_demand = load_complete_entso_e_data(DOWNLOAD_DIR)"
   ]
  },
  {
   "cell_type": "markdown",
   "metadata": {},
   "source": [
    "# Exercise 1 - Calculate the relation of Wednesday average consumption to Sunday average consumption for selected countries\n",
    "\n",
    "In this exercise, calculate the relation of Wednesday average consumption to Sunday average consumption for the following countries: Austria, Germany, United Kingdom, Spain, Sweden, Italy, Croatia.\n",
    "\n",
    "(1) First create a variable that contains only power consumption data for these countries. The pandas command ```isin()``` may be very helpful here. Reduce the data to only consider the period 2015-01-01 until 2019-12-31. The lecture slides may contain relevant code here.\n",
    "\n",
    "(2) Then, group the data by weekday and country (i.e. AreaName). Use ```groupby``` and ```mean```for that purpose. \n",
    "\n",
    "(3) Calculate for all countries the proportion of Wednesday (day 2) and Sunday (day 6) by dividing the two values.\n",
    "\n",
    "(4) For which country, this relative value is highest? What could this indicate?"
   ]
  },
  {
   "cell_type": "code",
   "execution_count": 3,
   "metadata": {},
   "outputs": [],
   "source": [
    "countries=power_demand[\"AreaName\"].isin([\"Austria\", \"Germany\", \"United Kingdom\", \"Spain\", \"Sweden\", \"Italy\", \"Croatia\"])\n",
    "selected_time=power_demand[\"Year\"].isin([2015,2016,2017,2018,2019])"
   ]
  },
  {
   "cell_type": "code",
   "execution_count": 4,
   "metadata": {},
   "outputs": [
    {
     "data": {
      "text/html": [
       "<div>\n",
       "<style scoped>\n",
       "    .dataframe tbody tr th:only-of-type {\n",
       "        vertical-align: middle;\n",
       "    }\n",
       "\n",
       "    .dataframe tbody tr th {\n",
       "        vertical-align: top;\n",
       "    }\n",
       "\n",
       "    .dataframe thead th {\n",
       "        text-align: right;\n",
       "    }\n",
       "</style>\n",
       "<table border=\"1\" class=\"dataframe\">\n",
       "  <thead>\n",
       "    <tr style=\"text-align: right;\">\n",
       "      <th></th>\n",
       "      <th>Year</th>\n",
       "      <th>Month</th>\n",
       "      <th>Day</th>\n",
       "      <th>ResolutionCode</th>\n",
       "      <th>areacode</th>\n",
       "      <th>AreaTypeCode</th>\n",
       "      <th>AreaName</th>\n",
       "      <th>MapCode</th>\n",
       "      <th>TotalLoadValue</th>\n",
       "      <th>UpdateTime</th>\n",
       "    </tr>\n",
       "    <tr>\n",
       "      <th>DateTime</th>\n",
       "      <th></th>\n",
       "      <th></th>\n",
       "      <th></th>\n",
       "      <th></th>\n",
       "      <th></th>\n",
       "      <th></th>\n",
       "      <th></th>\n",
       "      <th></th>\n",
       "      <th></th>\n",
       "      <th></th>\n",
       "    </tr>\n",
       "  </thead>\n",
       "  <tbody>\n",
       "    <tr>\n",
       "      <th>2015-01-01 00:00:00</th>\n",
       "      <td>2015</td>\n",
       "      <td>1</td>\n",
       "      <td>1</td>\n",
       "      <td>PT15M</td>\n",
       "      <td>10YAT-APG------L</td>\n",
       "      <td>CTY</td>\n",
       "      <td>Austria</td>\n",
       "      <td>AT</td>\n",
       "      <td>6017.2</td>\n",
       "      <td>2017-09-14 04:00:15</td>\n",
       "    </tr>\n",
       "    <tr>\n",
       "      <th>2015-01-01 00:15:00</th>\n",
       "      <td>2015</td>\n",
       "      <td>1</td>\n",
       "      <td>1</td>\n",
       "      <td>PT15M</td>\n",
       "      <td>10YAT-APG------L</td>\n",
       "      <td>CTY</td>\n",
       "      <td>Austria</td>\n",
       "      <td>AT</td>\n",
       "      <td>5966.8</td>\n",
       "      <td>2017-09-14 04:00:15</td>\n",
       "    </tr>\n",
       "    <tr>\n",
       "      <th>2015-01-01 00:30:00</th>\n",
       "      <td>2015</td>\n",
       "      <td>1</td>\n",
       "      <td>1</td>\n",
       "      <td>PT15M</td>\n",
       "      <td>10YAT-APG------L</td>\n",
       "      <td>CTY</td>\n",
       "      <td>Austria</td>\n",
       "      <td>AT</td>\n",
       "      <td>5935.6</td>\n",
       "      <td>2017-09-14 04:00:15</td>\n",
       "    </tr>\n",
       "    <tr>\n",
       "      <th>2015-01-01 00:45:00</th>\n",
       "      <td>2015</td>\n",
       "      <td>1</td>\n",
       "      <td>1</td>\n",
       "      <td>PT15M</td>\n",
       "      <td>10YAT-APG------L</td>\n",
       "      <td>CTY</td>\n",
       "      <td>Austria</td>\n",
       "      <td>AT</td>\n",
       "      <td>5934.4</td>\n",
       "      <td>2017-09-14 04:00:15</td>\n",
       "    </tr>\n",
       "    <tr>\n",
       "      <th>2015-01-01 01:00:00</th>\n",
       "      <td>2015</td>\n",
       "      <td>1</td>\n",
       "      <td>1</td>\n",
       "      <td>PT15M</td>\n",
       "      <td>10YAT-APG------L</td>\n",
       "      <td>CTY</td>\n",
       "      <td>Austria</td>\n",
       "      <td>AT</td>\n",
       "      <td>5750.8</td>\n",
       "      <td>2017-09-14 04:00:15</td>\n",
       "    </tr>\n",
       "    <tr>\n",
       "      <th>...</th>\n",
       "      <td>...</td>\n",
       "      <td>...</td>\n",
       "      <td>...</td>\n",
       "      <td>...</td>\n",
       "      <td>...</td>\n",
       "      <td>...</td>\n",
       "      <td>...</td>\n",
       "      <td>...</td>\n",
       "      <td>...</td>\n",
       "      <td>...</td>\n",
       "    </tr>\n",
       "    <tr>\n",
       "      <th>2019-12-31 21:30:00</th>\n",
       "      <td>2019</td>\n",
       "      <td>12</td>\n",
       "      <td>31</td>\n",
       "      <td>PT30M</td>\n",
       "      <td>GB</td>\n",
       "      <td>CTY</td>\n",
       "      <td>United Kingdom</td>\n",
       "      <td>GB</td>\n",
       "      <td>34772.0</td>\n",
       "      <td>2020-01-06 22:16:17</td>\n",
       "    </tr>\n",
       "    <tr>\n",
       "      <th>2019-12-31 22:00:00</th>\n",
       "      <td>2019</td>\n",
       "      <td>12</td>\n",
       "      <td>31</td>\n",
       "      <td>PT30M</td>\n",
       "      <td>GB</td>\n",
       "      <td>CTY</td>\n",
       "      <td>United Kingdom</td>\n",
       "      <td>GB</td>\n",
       "      <td>32305.0</td>\n",
       "      <td>2020-01-06 22:16:17</td>\n",
       "    </tr>\n",
       "    <tr>\n",
       "      <th>2019-12-31 22:30:00</th>\n",
       "      <td>2019</td>\n",
       "      <td>12</td>\n",
       "      <td>31</td>\n",
       "      <td>PT30M</td>\n",
       "      <td>GB</td>\n",
       "      <td>CTY</td>\n",
       "      <td>United Kingdom</td>\n",
       "      <td>GB</td>\n",
       "      <td>31521.0</td>\n",
       "      <td>2020-01-06 22:16:17</td>\n",
       "    </tr>\n",
       "    <tr>\n",
       "      <th>2019-12-31 23:00:00</th>\n",
       "      <td>2019</td>\n",
       "      <td>12</td>\n",
       "      <td>31</td>\n",
       "      <td>PT30M</td>\n",
       "      <td>GB</td>\n",
       "      <td>CTY</td>\n",
       "      <td>United Kingdom</td>\n",
       "      <td>GB</td>\n",
       "      <td>31659.0</td>\n",
       "      <td>2020-01-06 22:31:19</td>\n",
       "    </tr>\n",
       "    <tr>\n",
       "      <th>2019-12-31 23:30:00</th>\n",
       "      <td>2019</td>\n",
       "      <td>12</td>\n",
       "      <td>31</td>\n",
       "      <td>PT30M</td>\n",
       "      <td>GB</td>\n",
       "      <td>CTY</td>\n",
       "      <td>United Kingdom</td>\n",
       "      <td>GB</td>\n",
       "      <td>31331.0</td>\n",
       "      <td>2020-01-06 22:31:19</td>\n",
       "    </tr>\n",
       "  </tbody>\n",
       "</table>\n",
       "<p>600307 rows × 10 columns</p>\n",
       "</div>"
      ],
      "text/plain": [
       "                     Year  Month  Day ResolutionCode          areacode  \\\n",
       "DateTime                                                                 \n",
       "2015-01-01 00:00:00  2015      1    1          PT15M  10YAT-APG------L   \n",
       "2015-01-01 00:15:00  2015      1    1          PT15M  10YAT-APG------L   \n",
       "2015-01-01 00:30:00  2015      1    1          PT15M  10YAT-APG------L   \n",
       "2015-01-01 00:45:00  2015      1    1          PT15M  10YAT-APG------L   \n",
       "2015-01-01 01:00:00  2015      1    1          PT15M  10YAT-APG------L   \n",
       "...                   ...    ...  ...            ...               ...   \n",
       "2019-12-31 21:30:00  2019     12   31          PT30M                GB   \n",
       "2019-12-31 22:00:00  2019     12   31          PT30M                GB   \n",
       "2019-12-31 22:30:00  2019     12   31          PT30M                GB   \n",
       "2019-12-31 23:00:00  2019     12   31          PT30M                GB   \n",
       "2019-12-31 23:30:00  2019     12   31          PT30M                GB   \n",
       "\n",
       "                    AreaTypeCode        AreaName MapCode  TotalLoadValue  \\\n",
       "DateTime                                                                   \n",
       "2015-01-01 00:00:00          CTY         Austria      AT          6017.2   \n",
       "2015-01-01 00:15:00          CTY         Austria      AT          5966.8   \n",
       "2015-01-01 00:30:00          CTY         Austria      AT          5935.6   \n",
       "2015-01-01 00:45:00          CTY         Austria      AT          5934.4   \n",
       "2015-01-01 01:00:00          CTY         Austria      AT          5750.8   \n",
       "...                          ...             ...     ...             ...   \n",
       "2019-12-31 21:30:00          CTY  United Kingdom      GB         34772.0   \n",
       "2019-12-31 22:00:00          CTY  United Kingdom      GB         32305.0   \n",
       "2019-12-31 22:30:00          CTY  United Kingdom      GB         31521.0   \n",
       "2019-12-31 23:00:00          CTY  United Kingdom      GB         31659.0   \n",
       "2019-12-31 23:30:00          CTY  United Kingdom      GB         31331.0   \n",
       "\n",
       "                              UpdateTime  \n",
       "DateTime                                  \n",
       "2015-01-01 00:00:00  2017-09-14 04:00:15  \n",
       "2015-01-01 00:15:00  2017-09-14 04:00:15  \n",
       "2015-01-01 00:30:00  2017-09-14 04:00:15  \n",
       "2015-01-01 00:45:00  2017-09-14 04:00:15  \n",
       "2015-01-01 01:00:00  2017-09-14 04:00:15  \n",
       "...                                  ...  \n",
       "2019-12-31 21:30:00  2020-01-06 22:16:17  \n",
       "2019-12-31 22:00:00  2020-01-06 22:16:17  \n",
       "2019-12-31 22:30:00  2020-01-06 22:16:17  \n",
       "2019-12-31 23:00:00  2020-01-06 22:31:19  \n",
       "2019-12-31 23:30:00  2020-01-06 22:31:19  \n",
       "\n",
       "[600307 rows x 10 columns]"
      ]
     },
     "execution_count": 4,
     "metadata": {},
     "output_type": "execute_result"
    }
   ],
   "source": [
    "power_demand_selected=power_demand[countries & selected_time]\n",
    "power_demand_selected"
   ]
  },
  {
   "cell_type": "code",
   "execution_count": 5,
   "metadata": {},
   "outputs": [],
   "source": [
    "def wednesday_sunday_relation(*countries):\n",
    "    ratio_list=[]\n",
    "    country_ratio={}\n",
    "    \n",
    "    for country in countries:\n",
    "        power_demand_selected_c=power_demand_selected[power_demand_selected[\"AreaName\"]==country]\n",
    "        power_demand_grouped_c = power_demand_selected_c.groupby(power_demand_selected_c.index.weekday).mean()\n",
    "        ratio=power_demand_grouped_c.loc[2][3]/power_demand_grouped_c.loc[6][3]\n",
    "        country_ratio[ratio]=country\n",
    "        ratio_list.append(ratio)\n",
    "    print(f\"wednesday- sunday- ratio: {country_ratio}\")\n",
    "    max_value=max(ratio_list)\n",
    "    print(f\"{country_ratio[max_value]} has the highest Wednesday- Sunday ratio. The value is: {max_value}\")\n",
    "    return max_value\n",
    "    \n",
    "    "
   ]
  },
  {
   "cell_type": "code",
   "execution_count": 6,
   "metadata": {},
   "outputs": [
    {
     "name": "stdout",
     "output_type": "stream",
     "text": [
      "wednesday- sunday- ratio: {1.2699300382093988: 'Austria', 1.2984684924675223: 'Germany', 1.2112472535692624: 'Spain', 1.117264750947256: 'Sweden', 1.3762369971752841: 'Italy', 1.1332241058074153: 'United Kingdom', 1.1498820059246304: 'Croatia'}\n",
      "Italy has the highest Wednesday- Sunday ratio. The value is: 1.3762369971752841\n"
     ]
    },
    {
     "data": {
      "text/plain": [
       "1.3762369971752841"
      ]
     },
     "execution_count": 6,
     "metadata": {},
     "output_type": "execute_result"
    }
   ],
   "source": [
    "wednesday_sunday_relation(\"Austria\",\"Germany\", \"Spain\", \"Sweden\",\"Italy\", \"United Kingdom\", \"Croatia\")"
   ]
  },
  {
   "cell_type": "markdown",
   "metadata": {},
   "source": [
    "# Exercise 2 - Calculate the monthly average consumption as deviation from mean consumption\n",
    "\n",
    "For the same countries as in the above dataset, calculate the monthly mean consumption as deviation from the mean of consumption over the whole time. Plot the curves for all countries.\n",
    "\n",
    "(1) First create a variable that contains only power consumption data for the selected countries. The pandas command ```isin()``` may be very helpful here. If you did Exercise 1, you can use the same dataset.\n",
    "\n",
    "(2) Then, aggregate the data by country (i.e. AreaName) and month. Use ```groupby``` and ```mean``` for that purpose. Select the column ```TotalLoadValue``` from the result.\n",
    "\n",
    "(3)  Aggregate the data by country (i..e AreaName) only, i.e. calculate the average consumption by country using ```groupby``` and ```mean```. Select the column ```TotalLoadValue``` from the result.\n",
    "\n",
    "(4) Divide the result of (2) by (3) and observe how well broadcasting works here.\n",
    "\n",
    "(5) Use the command ```unstack``` on the result. How does the table look now? Plot the result. If your resulting, unstacked dataframe is called ```result```, you may use ```result.plot()``` to get a nice plot.\n",
    "\n",
    "(6) How would you explain the difference in the curve between Croatia and Sweden?\n"
   ]
  },
  {
   "cell_type": "code",
   "execution_count": 17,
   "metadata": {
    "scrolled": true
   },
   "outputs": [
    {
     "data": {
      "text/plain": [
       "DateTime\n",
       "1     7932.530645\n",
       "2     8040.209013\n",
       "3     7574.834328\n",
       "4     6796.085833\n",
       "5     6483.764677\n",
       "6     6597.777000\n",
       "7     6527.511747\n",
       "8     6452.500027\n",
       "9     6714.469278\n",
       "10    7034.536237\n",
       "11    7662.808611\n",
       "12    7735.513280\n",
       "Name: TotalLoadValue, dtype: float64"
      ]
     },
     "execution_count": 17,
     "metadata": {},
     "output_type": "execute_result"
    }
   ],
   "source": [
    "power_demand_selected_c = power_demand_selected[power_demand_selected[\"AreaName\"]==\"Austria\"]\n",
    "average_month_consumption = power_demand_selected_c.groupby(power_demand_selected_c.index.month).mean()\n",
    "#print(power_demand_selected_c)\n",
    "#print(average_month_consumption)\n",
    "average_month_consumption[\"TotalLoadValue\"]\n",
    "\n",
    "#power_demand_selected_c[\"TotalLoadValue\"].mean()"
   ]
  },
  {
   "cell_type": "code",
   "execution_count": 25,
   "metadata": {},
   "outputs": [
    {
     "data": {
      "text/plain": [
       "AreaName        DateTime\n",
       "Austria         1            7932.530645\n",
       "                2            8040.209013\n",
       "                3            7574.834328\n",
       "                4            6796.085833\n",
       "                5            6483.764677\n",
       "                                ...     \n",
       "United Kingdom  8           32546.694217\n",
       "                9           33385.264254\n",
       "                10          35639.424453\n",
       "                11          39330.550889\n",
       "                12          38694.120942\n",
       "Name: TotalLoadValue, Length: 84, dtype: float64"
      ]
     },
     "execution_count": 25,
     "metadata": {},
     "output_type": "execute_result"
    }
   ],
   "source": [
    "mean_tlv = power_demand_selected.groupby([\"AreaName\", power_demand_selected.index.month]).mean()[\"TotalLoadValue\"]\n",
    "mean_tlv"
   ]
  },
  {
   "cell_type": "code",
   "execution_count": 27,
   "metadata": {},
   "outputs": [
    {
     "data": {
      "text/plain": [
       "AreaName\n",
       "Austria            7124.438760\n",
       "Croatia            2003.858225\n",
       "Germany           55859.257807\n",
       "Italy             33192.450073\n",
       "Spain             28664.970677\n",
       "Sweden            15623.217001\n",
       "United Kingdom    36318.162173\n",
       "Name: TotalLoadValue, dtype: float64"
      ]
     },
     "execution_count": 27,
     "metadata": {},
     "output_type": "execute_result"
    }
   ],
   "source": [
    "average_tlv = power_demand_selected.groupby([\"AreaName\"]).mean()[\"TotalLoadValue\"]\n",
    "average_tlv"
   ]
  },
  {
   "cell_type": "code",
   "execution_count": 33,
   "metadata": {},
   "outputs": [],
   "source": [
    "result_ratio = mean_tlv/average_tlv"
   ]
  },
  {
   "cell_type": "code",
   "execution_count": 37,
   "metadata": {},
   "outputs": [
    {
     "data": {
      "text/html": [
       "<div>\n",
       "<style scoped>\n",
       "    .dataframe tbody tr th:only-of-type {\n",
       "        vertical-align: middle;\n",
       "    }\n",
       "\n",
       "    .dataframe tbody tr th {\n",
       "        vertical-align: top;\n",
       "    }\n",
       "\n",
       "    .dataframe thead th {\n",
       "        text-align: right;\n",
       "    }\n",
       "</style>\n",
       "<table border=\"1\" class=\"dataframe\">\n",
       "  <thead>\n",
       "    <tr style=\"text-align: right;\">\n",
       "      <th>DateTime</th>\n",
       "      <th>1</th>\n",
       "      <th>2</th>\n",
       "      <th>3</th>\n",
       "      <th>4</th>\n",
       "      <th>5</th>\n",
       "      <th>6</th>\n",
       "      <th>7</th>\n",
       "      <th>8</th>\n",
       "      <th>9</th>\n",
       "      <th>10</th>\n",
       "      <th>11</th>\n",
       "      <th>12</th>\n",
       "    </tr>\n",
       "    <tr>\n",
       "      <th>AreaName</th>\n",
       "      <th></th>\n",
       "      <th></th>\n",
       "      <th></th>\n",
       "      <th></th>\n",
       "      <th></th>\n",
       "      <th></th>\n",
       "      <th></th>\n",
       "      <th></th>\n",
       "      <th></th>\n",
       "      <th></th>\n",
       "      <th></th>\n",
       "      <th></th>\n",
       "    </tr>\n",
       "  </thead>\n",
       "  <tbody>\n",
       "    <tr>\n",
       "      <th>Austria</th>\n",
       "      <td>1.113425</td>\n",
       "      <td>1.128539</td>\n",
       "      <td>1.063218</td>\n",
       "      <td>0.953912</td>\n",
       "      <td>0.910074</td>\n",
       "      <td>0.926077</td>\n",
       "      <td>0.916214</td>\n",
       "      <td>0.905685</td>\n",
       "      <td>0.942456</td>\n",
       "      <td>0.987381</td>\n",
       "      <td>1.075567</td>\n",
       "      <td>1.085772</td>\n",
       "    </tr>\n",
       "    <tr>\n",
       "      <th>Croatia</th>\n",
       "      <td>1.082719</td>\n",
       "      <td>1.063903</td>\n",
       "      <td>1.001216</td>\n",
       "      <td>0.918810</td>\n",
       "      <td>0.905044</td>\n",
       "      <td>0.958456</td>\n",
       "      <td>1.064057</td>\n",
       "      <td>1.052261</td>\n",
       "      <td>0.957277</td>\n",
       "      <td>0.935913</td>\n",
       "      <td>0.991125</td>\n",
       "      <td>1.069385</td>\n",
       "    </tr>\n",
       "    <tr>\n",
       "      <th>Germany</th>\n",
       "      <td>1.064554</td>\n",
       "      <td>1.074510</td>\n",
       "      <td>1.036265</td>\n",
       "      <td>0.966114</td>\n",
       "      <td>0.948962</td>\n",
       "      <td>0.963211</td>\n",
       "      <td>0.965244</td>\n",
       "      <td>0.947354</td>\n",
       "      <td>0.965235</td>\n",
       "      <td>0.995737</td>\n",
       "      <td>1.060383</td>\n",
       "      <td>1.017721</td>\n",
       "    </tr>\n",
       "    <tr>\n",
       "      <th>Italy</th>\n",
       "      <td>1.026697</td>\n",
       "      <td>1.049985</td>\n",
       "      <td>0.990605</td>\n",
       "      <td>0.910626</td>\n",
       "      <td>0.933483</td>\n",
       "      <td>1.026133</td>\n",
       "      <td>1.136398</td>\n",
       "      <td>0.959686</td>\n",
       "      <td>1.012885</td>\n",
       "      <td>0.970708</td>\n",
       "      <td>1.003899</td>\n",
       "      <td>0.981911</td>\n",
       "    </tr>\n",
       "    <tr>\n",
       "      <th>Spain</th>\n",
       "      <td>1.064727</td>\n",
       "      <td>1.066895</td>\n",
       "      <td>1.001202</td>\n",
       "      <td>0.941515</td>\n",
       "      <td>0.935340</td>\n",
       "      <td>0.995052</td>\n",
       "      <td>1.062301</td>\n",
       "      <td>1.009465</td>\n",
       "      <td>0.983747</td>\n",
       "      <td>0.942679</td>\n",
       "      <td>1.001410</td>\n",
       "      <td>0.999224</td>\n",
       "    </tr>\n",
       "    <tr>\n",
       "      <th>Sweden</th>\n",
       "      <td>1.274837</td>\n",
       "      <td>1.240632</td>\n",
       "      <td>1.139172</td>\n",
       "      <td>0.995361</td>\n",
       "      <td>0.875668</td>\n",
       "      <td>0.820553</td>\n",
       "      <td>0.757850</td>\n",
       "      <td>0.803023</td>\n",
       "      <td>0.865870</td>\n",
       "      <td>0.974757</td>\n",
       "      <td>1.113573</td>\n",
       "      <td>1.155836</td>\n",
       "    </tr>\n",
       "    <tr>\n",
       "      <th>United Kingdom</th>\n",
       "      <td>1.133772</td>\n",
       "      <td>1.158053</td>\n",
       "      <td>1.094719</td>\n",
       "      <td>0.996545</td>\n",
       "      <td>0.948103</td>\n",
       "      <td>0.915583</td>\n",
       "      <td>0.910248</td>\n",
       "      <td>0.896155</td>\n",
       "      <td>0.919244</td>\n",
       "      <td>0.981311</td>\n",
       "      <td>1.082944</td>\n",
       "      <td>1.065421</td>\n",
       "    </tr>\n",
       "  </tbody>\n",
       "</table>\n",
       "</div>"
      ],
      "text/plain": [
       "DateTime              1         2         3         4         5         6   \\\n",
       "AreaName                                                                     \n",
       "Austria         1.113425  1.128539  1.063218  0.953912  0.910074  0.926077   \n",
       "Croatia         1.082719  1.063903  1.001216  0.918810  0.905044  0.958456   \n",
       "Germany         1.064554  1.074510  1.036265  0.966114  0.948962  0.963211   \n",
       "Italy           1.026697  1.049985  0.990605  0.910626  0.933483  1.026133   \n",
       "Spain           1.064727  1.066895  1.001202  0.941515  0.935340  0.995052   \n",
       "Sweden          1.274837  1.240632  1.139172  0.995361  0.875668  0.820553   \n",
       "United Kingdom  1.133772  1.158053  1.094719  0.996545  0.948103  0.915583   \n",
       "\n",
       "DateTime              7         8         9         10        11        12  \n",
       "AreaName                                                                    \n",
       "Austria         0.916214  0.905685  0.942456  0.987381  1.075567  1.085772  \n",
       "Croatia         1.064057  1.052261  0.957277  0.935913  0.991125  1.069385  \n",
       "Germany         0.965244  0.947354  0.965235  0.995737  1.060383  1.017721  \n",
       "Italy           1.136398  0.959686  1.012885  0.970708  1.003899  0.981911  \n",
       "Spain           1.062301  1.009465  0.983747  0.942679  1.001410  0.999224  \n",
       "Sweden          0.757850  0.803023  0.865870  0.974757  1.113573  1.155836  \n",
       "United Kingdom  0.910248  0.896155  0.919244  0.981311  1.082944  1.065421  "
      ]
     },
     "execution_count": 37,
     "metadata": {},
     "output_type": "execute_result"
    }
   ],
   "source": [
    "result_ratio.unstack()"
   ]
  },
  {
   "cell_type": "code",
   "execution_count": 45,
   "metadata": {},
   "outputs": [
    {
     "data": {
      "text/plain": [
       "<matplotlib.axes._subplots.AxesSubplot at 0xf2f9a48>"
      ]
     },
     "execution_count": 45,
     "metadata": {},
     "output_type": "execute_result"
    },
    {
     "data": {
      "image/png": "[encoded data removed]",
      "text/plain": [
       "<Figure size 432x288 with 1 Axes>"
      ]
     },
     "metadata": {
      "needs_background": "light"
     },
     "output_type": "display_data"
    }
   ],
   "source": [
    "result_ratio.unstack().plot(style= 'o')"
   ]
  },
  {
   "cell_type": "markdown",
   "metadata": {},
   "source": [
    "If the value is close to 1 it means that the value of the energy load is quite constant. Thus if the values are spread more widely, it means that each month is quite different from the average energy load. In Sweden the saisonality is probalby a factor that contributes to the difference in monthly energy consumption. This reflects for example the use of artificial light or how much energy is used to heat with electrical power. "
   ]
  },
  {
   "cell_type": "markdown",
   "metadata": {},
   "source": [
    "# Exercise 3 - calculate the hourly average consumption as deviation from mean consumption\n",
    "\n",
    "Do the same as in exercise 2, but now for the hourly average consumption. I.e. how much is consumed on each of the 24 hours of a day?\n",
    "\n",
    "Which country has the lowest, which the highest variability? What may be the reason for it?"
   ]
  },
  {
   "cell_type": "code",
   "execution_count": null,
   "metadata": {},
   "outputs": [],
   "source": []
  },
  {
   "cell_type": "code",
   "execution_count": null,
   "metadata": {},
   "outputs": [],
   "source": []
  },
  {
   "cell_type": "markdown",
   "metadata": {},
   "source": [
    "# Exercise 4 - Calculate the average load per capita\n",
    "\n",
    "Below you find a table with population data for our selected countries. You should use it to calculate per capita consumption.\n",
    "\n",
    "(1) Calculate the average load in all countries using ```groupby``` and ```mean``` and select the column ```TotalLoadValue``` from the result.\n",
    "\n",
    "(2) Divide the result by the ```Population``` column of the dataframe ```population```. Observe, how broadcasting helps here nicely.\n",
    "\n",
    "(3) Plot the result. Which country has the highest load, which the lowest? What may be the reason? In which unit is this value? How could we convert it to MWh per year?"
   ]
  },
  {
   "cell_type": "code",
   "execution_count": null,
   "metadata": {},
   "outputs": [],
   "source": [
    "population = pd.DataFrame({'Country': [\"Austria\", \"Croatia\", \"Germany\", \"Italy\", \"Spain\", \"Sweden\", \"United Kingdom\"],\n",
    "             'Population': [8840521, 4087843, 82905782, 60421760, 46796540, 10175214, 66460344]})\n",
    "\n",
    "population.index = population[\"Country\"]\n",
    "\n",
    "population"
   ]
  },
  {
   "cell_type": "code",
   "execution_count": null,
   "metadata": {},
   "outputs": [],
   "source": []
  }
 ],
 "metadata": {
  "kernelspec": {
   "display_name": "Python 3",
   "language": "python",
   "name": "python3"
  },
  "language_info": {
   "codemirror_mode": {
    "name": "ipython",
    "version": 3
   },
   "file_extension": ".py",
   "mimetype": "text/x-python",
   "name": "python",
   "nbconvert_exporter": "python",
   "pygments_lexer": "ipython3",
   "version": "3.7.6"
  }
 },
 "nbformat": 4,
 "nbformat_minor": 4
}
